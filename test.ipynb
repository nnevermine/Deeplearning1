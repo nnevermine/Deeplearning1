{
 "cells": [
  {
   "cell_type": "code",
   "execution_count": 1,
   "metadata": {},
   "outputs": [
    {
     "name": "stdout",
     "output_type": "stream",
     "text": [
      "c:\\Users\\patta\\Documents\\Deeplearning1\n",
      "network_for_mnist.h5\n",
      "Model: \"model_2\"\n",
      "_________________________________________________________________\n",
      " Layer (type)                Output Shape              Param #   \n",
      "=================================================================\n",
      " input_4 (InputLayer)        [(None, 28, 28, 1)]       0         \n",
      "                                                                 \n",
      " conv2d (Conv2D)             (None, 24, 24, 32)        832       \n",
      "                                                                 \n",
      " max_pooling2d (MaxPooling2  (None, 12, 12, 32)        0         \n",
      " D)                                                              \n",
      "                                                                 \n",
      " conv2d_1 (Conv2D)           (None, 10, 10, 32)        9248      \n",
      "                                                                 \n",
      " max_pooling2d_1 (MaxPoolin  (None, 5, 5, 32)          0         \n",
      " g2D)                                                            \n",
      "                                                                 \n",
      " flatten (Flatten)           (None, 800)               0         \n",
      "                                                                 \n",
      " dense_10 (Dense)            (None, 256)               205056    \n",
      "                                                                 \n",
      " dropout (Dropout)           (None, 256)               0         \n",
      "                                                                 \n",
      " dense_11 (Dense)            (None, 10)                2570      \n",
      "                                                                 \n",
      "=================================================================\n",
      "Total params: 217706 (850.41 KB)\n",
      "Trainable params: 217706 (850.41 KB)\n",
      "Non-trainable params: 0 (0.00 Byte)\n",
      "_________________________________________________________________\n",
      "313/313 [==============================] - 1s 3ms/step\n",
      "Percentage correctly classified MNIST=  99.38\n"
     ]
    }
   ],
   "source": [
    "import numpy as np \n",
    "import os \n",
    "from tensorflow.keras.models import load_model \n",
    "#load .h5 file of arbitrary name for testing (last if more than one) \n",
    "print(os.getcwd()) \n",
    "for file in os.listdir(os.getcwd()):    \n",
    "    if file.endswith(\".h5\"):        \n",
    "        print(file)        \n",
    "        net=load_model(file) \n",
    "        net.summary() \n",
    "        #determine what type of network this is \n",
    "        conf=net.layers[0].get_config() \n",
    "        inshape=conf['batch_input_shape'] \n",
    "        if inshape[1]==28:    \n",
    "            netType='CNN' \n",
    "        else:    \n",
    "            netType='MLP' \n",
    "#test with MNIST data \n",
    "from tensorflow.keras.datasets import mnist \n",
    "(x_train, labels_train), (x_test, labels_test) = mnist.load_data() \n",
    "x_test = x_test.astype('float32')\n",
    "x_test /= 255 \n",
    "if netType in ['MLP']:    \n",
    "    x_test = x_test.reshape(10000, 784) \n",
    "else:     \n",
    "    x_test = x_test.reshape(x_test.shape[0], 28, 28, 1) \n",
    "outputs=net.predict(x_test) \n",
    "labels_predicted=np.argmax(outputs, axis=1) \n",
    "correct_classified=sum(labels_predicted==labels_test) \n",
    "print('Percentage correctly classified MNIST= ',100*correct_classified/labels_test.size)"
   ]
  },
  {
   "cell_type": "code",
   "execution_count": null,
   "metadata": {},
   "outputs": [],
   "source": []
  }
 ],
 "metadata": {
  "kernelspec": {
   "display_name": "Python 3 (ipykernel)",
   "language": "python",
   "name": "python3"
  }
 },
 "nbformat": 4,
 "nbformat_minor": 2
}
